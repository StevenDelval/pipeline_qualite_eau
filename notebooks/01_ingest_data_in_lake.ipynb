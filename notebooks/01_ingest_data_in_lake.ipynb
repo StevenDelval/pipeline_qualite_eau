{
 "cells": [
  {
   "cell_type": "markdown",
   "id": "02df66e0",
   "metadata": {},
   "source": [
    "# Imports"
   ]
  },
  {
   "cell_type": "code",
   "execution_count": null,
   "id": "8c81e481",
   "metadata": {},
   "outputs": [],
   "source": [
    "import os\n",
    "import logging\n",
    "import requests\n",
    "import zipfile\n",
    "from io import BytesIO\n",
    "from azure.storage.filedatalake import DataLakeServiceClient"
   ]
  },
  {
   "cell_type": "markdown",
   "id": "818a973a",
   "metadata": {},
   "source": [
    "# Configuration du logging"
   ]
  },
  {
   "cell_type": "code",
   "execution_count": null,
   "id": "ed72821d",
   "metadata": {},
   "outputs": [],
   "source": [
    "logging.basicConfig(\n",
    "    level=logging.INFO,\n",
    "    format=\"%(asctime)s [%(levelname)s] %(message)s\"\n",
    ")\n",
    "logger = logging.getLogger(__name__)"
   ]
  },
  {
   "cell_type": "markdown",
   "id": "ff5f07e8",
   "metadata": {},
   "source": [
    "# Config"
   ]
  },
  {
   "cell_type": "code",
   "execution_count": null,
   "id": "51bde798",
   "metadata": {},
   "outputs": [],
   "source": [
    "STORAGE_ACCOUNT_NAME = os.environ[\"STORAGE_ACCOUNT_NAME\"]\n",
    "FILESYSTEM_NAME = os.environ[\"CONTAINER_NAME\"]\n",
    "SECRET_SCOPE_NAME = \"datalake-scope\"\n",
    "SECRET_KEY_NAME = \"storage-account-key\""
   ]
  },
  {
   "cell_type": "code",
   "execution_count": null,
   "id": "2b5708de",
   "metadata": {},
   "outputs": [],
   "source": [
    "ZIP_URLS = {\n",
    "    \"dis-2025-dept\": \"https://www.data.gouv.fr/api/1/datasets/r/6994a9f1-3f4b-4e15-a4dc-0e358a6aac13\",\n",
    "    \"dis-2024-dept\": \"https://www.data.gouv.fr/api/1/datasets/r/c0350599-a041-4724-9942-ad4c2ba9a7b3\",\n",
    "    \"dis-2023-dept\": \"https://www.data.gouv.fr/api/1/datasets/r/96452cf0-329a-4908-8adb-8f061adcca4c\",\n",
    "    \"dis-2022-dept\": \"https://www.data.gouv.fr/api/1/datasets/r/77d3151a-739e-4aab-8c34-7a15d7fea55d\",\n",
    "    \"dis-2021-dept\": \"https://www.data.gouv.fr/api/1/datasets/r/3c5ebbd9-f6b5-4837-a194-12bfeda7f38e\",\n",
    "\n",
    "}"
   ]
  },
  {
   "cell_type": "markdown",
   "id": "644d74ec",
   "metadata": {},
   "source": [
    "# Fonctions utilitaires"
   ]
  },
  {
   "cell_type": "code",
   "execution_count": null,
   "id": "9af373eb",
   "metadata": {},
   "outputs": [],
   "source": [
    "def get_adls_service_client(storage_account, secret_scope, secret_key):\n",
    "    \"\"\"\n",
    "    Crée et retourne un DataLakeServiceClient connecté au stockage ADLS Gen2.\n",
    "    \"\"\"\n",
    "    storage_key = dbutils.secrets.get(scope=secret_scope, key=secret_key)\n",
    "    conn_str = f\"DefaultEndpointsProtocol=https;AccountName={storage_account};AccountKey={storage_key};EndpointSuffix=core.windows.net\"\n",
    "    return DataLakeServiceClient.from_connection_string(conn_str)"
   ]
  },
  {
   "cell_type": "code",
   "execution_count": null,
   "id": "2eedbfba",
   "metadata": {},
   "outputs": [],
   "source": [
    "def upload_file_to_adls(filesystem_client, local_path, target_path):\n",
    "    \"\"\"\n",
    "    Upload un fichier local vers ADLS Gen2 à l'emplacement target_path.\n",
    "    \"\"\"\n",
    "    file_client = filesystem_client.get_file_client(target_path)\n",
    "    with open(local_path, \"rb\") as f:\n",
    "        file_client.upload_data(f, overwrite=True)\n",
    "    logger.info(f\"Uploaded {target_path} to ADLS\")"
   ]
  },
  {
   "cell_type": "code",
   "execution_count": null,
   "id": "ecb500d3",
   "metadata": {},
   "outputs": [],
   "source": [
    "def process_zip_from_url(url, folder_name, filesystem_client):\n",
    "    \"\"\"\n",
    "    Télécharge un ZIP depuis l'URL, le décompresse, et upload chaque fichier\n",
    "    dans un sous-dossier correspondant à folder_name dans ADLS.\n",
    "    \"\"\"\n",
    "    logger.info(f\"Downloading {url}...\")\n",
    "    response = requests.get(url)\n",
    "    response.raise_for_status()\n",
    "\n",
    "    with zipfile.ZipFile(BytesIO(response.content)) as zf:\n",
    "        for file_name in zf.namelist():\n",
    "            logger.info(f\"Processing {file_name}...\")\n",
    "            local_path = f\"/tmp/{file_name}\"\n",
    "            os.makedirs(os.path.dirname(local_path), exist_ok=True)\n",
    "            with open(local_path, \"wb\") as f:\n",
    "                f.write(zf.read(file_name))\n",
    "\n",
    "            # Upload vers ADLS sous un sous-dossier folder_name\n",
    "            target_path = f\"{folder_name}/{file_name}\"\n",
    "            try:\n",
    "                upload_file_to_adls(filesystem_client, local_path, target_path)\n",
    "            except Exception as e:\n",
    "                logger.error(f\"Failed to upload {file_name}: {e}\")"
   ]
  },
  {
   "cell_type": "markdown",
   "id": "193877d6",
   "metadata": {},
   "source": [
    "# Lance le processus"
   ]
  },
  {
   "cell_type": "code",
   "execution_count": null,
   "id": "eab606dc",
   "metadata": {},
   "outputs": [],
   "source": [
    "# Création du client ADLS\n",
    "filesystem_client = get_adls_service_client(STORAGE_ACCOUNT_NAME, SECRET_SCOPE_NAME, SECRET_KEY_NAME)\\\n",
    "                        .get_file_system_client(FILESYSTEM_NAME)\n",
    "\n",
    "# Traitement de chaque ZIP\n",
    "for folder_name, url in ZIP_URLS.items():\n",
    "    try:\n",
    "        process_zip_from_url(url, folder_name, filesystem_client)\n",
    "    except Exception as e:\n",
    "        logger.error(f\"Failed to process {url}: {e}\")"
   ]
  }
 ],
 "metadata": {
  "kernelspec": {
   "display_name": "scraping_simplon",
   "language": "python",
   "name": "python3"
  },
  "language_info": {
   "codemirror_mode": {
    "name": "ipython",
    "version": 3
   },
   "file_extension": ".py",
   "mimetype": "text/x-python",
   "name": "python",
   "nbconvert_exporter": "python",
   "pygments_lexer": "ipython3",
   "version": "3.12.4"
  }
 },
 "nbformat": 4,
 "nbformat_minor": 5
}
